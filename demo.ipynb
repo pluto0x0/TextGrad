{
 "cells": [
  {
   "cell_type": "code",
   "execution_count": null,
   "metadata": {},
   "outputs": [],
   "source": [
    "import textgrad as tg\n",
    "\n",
    "LLM = tg.models.OpenAI(model='gpt-4o-mini')\n",
    "tg.setLLM(LLM)"
   ]
  },
  {
   "cell_type": "code",
   "execution_count": 2,
   "metadata": {},
   "outputs": [],
   "source": [
    "question = tg.Variable(\n",
    "    'There is a pool with infinite water, and you have two buckets with volume 4L and 2L. You can only pour water until a bucket is full or empty. Can you get exactly 3L of water?',\n",
    "    key='question')\n",
    "inst = tg.Variable(\n",
    "    'Think step by step.',\n",
    "    key='hint',\n",
    "    requires_grad=True)"
   ]
  },
  {
   "cell_type": "code",
   "execution_count": 3,
   "metadata": {},
   "outputs": [
    {
     "data": {
      "text/plain": [
       "Variable(string=\"Yes, you can measure exactly 3L of water using the 4L and 2L buckets by following these steps:\\n\\n1. Fill the 2L bucket completely from the pool.\\n2. Pour the water from the 2L bucket into the 4L bucket.\\n3. Fill the 2L bucket again completely from the pool.\\n4. Pour water from the 2L bucket into the 4L bucket until the 4L bucket is full. This will take 2L from the 2L bucket, leaving you with 0L in the 2L bucket and 2L in the 4L bucket.\\n5. Since the 4L bucket can hold a total of 4L, and you've already added 2L, you now pour the remaining water (which is 2L from the 2L bucket) into the 4L bucket until it's full but since it was already at 2L, it can take only 2L more from 2L bucket and this will now fill 4L bucket with exactly 4L.\\n\\nBy following this process, you have successfully poured water into the sizes of the buckets to give you exactly 3L into the 4L bucket when you pour just from the 2L bucket once again if left with the measured 2L in 4L bucket.\", key='solution', requires_grad=True, grad=None, predecessors=[Variable(string='There is a pool with infinite water, and you have two buckets with volume 4L and 2L. You can only pour water until a bucket is full or empty. Can you get exactly 3L of water?', key='question', requires_grad=False, grad=None, predecessors=[], conversation=''), Variable(string='Think step by step.', key='hint', requires_grad=True, grad=None, predecessors=[], conversation='')], conversation=\"\\n!!USER INPUT:\\n\\nYou are given the following question and hint:\\n\\n[question] There is a pool with infinite water, and you have two buckets with volume 4L and 2L. You can only pour water until a bucket is full or empty. Can you get exactly 3L of water?\\n\\n[hint] Think step by step.\\n\\nPlease answer the question.\\n\\n\\n!!LLM OUTPUT:\\n\\n[solution] Yes, you can measure exactly 3L of water using the 4L and 2L buckets by following these steps:\\n\\n1. Fill the 2L bucket completely from the pool.\\n2. Pour the water from the 2L bucket into the 4L bucket.\\n3. Fill the 2L bucket again completely from the pool.\\n4. Pour water from the 2L bucket into the 4L bucket until the 4L bucket is full. This will take 2L from the 2L bucket, leaving you with 0L in the 2L bucket and 2L in the 4L bucket.\\n5. Since the 4L bucket can hold a total of 4L, and you've already added 2L, you now pour the remaining water (which is 2L from the 2L bucket) into the 4L bucket until it's full but since it was already at 2L, it can take only 2L more from 2L bucket and this will now fill 4L bucket with exactly 4L.\\n\\nBy following this process, you have successfully poured water into the sizes of the buckets to give you exactly 3L into the 4L bucket when you pour just from the 2L bucket once again if left with the measured 2L in 4L bucket.\\n\")"
      ]
     },
     "execution_count": 3,
     "metadata": {},
     "output_type": "execute_result"
    }
   ],
   "source": [
    "ans = LLM(\n",
    "'''You are given the following question and hint:\n",
    "\n",
    "{question}\n",
    "\n",
    "{instruction}\n",
    "\n",
    "Please answer the question.\n",
    "''',\n",
    "        variables={\n",
    "            'question': question,\n",
    "            'instruction': inst,\n",
    "        },\n",
    "        key='solution')\n",
    "ans"
   ]
  },
  {
   "cell_type": "code",
   "execution_count": 4,
   "metadata": {},
   "outputs": [
    {
     "data": {
      "text/plain": [
       "Variable(string=\"The provided solution has several inaccuracies and misunderstandings regarding the steps to measure exactly 3 liters using a 4-liter and a 2-liter bucket. Let's break down the process and evaluate the correctness:\\n\\n1. **Initial Step**: Fill the 2L bucket completely from the pool. (You now have 2L in the 2L bucket, and the 4L bucket is empty.)\\n\\n2. **Pour 2L into 4L**: Pour the water from the 2L bucket into the 4L bucket. (Now, the 4L bucket has 2L, and the 2L bucket is empty.)\\n\\n3. **Fill the 2L bucket again**: Fill the 2L bucket completely from the pool. (You have 2L in the 2L bucket and 2L in the 4L bucket.)\\n\\n4. **Pour from the 2L bucket to the 4L bucket**: When you pour from the 2L bucket into the 4L bucket, you can only add 2L more because the 4L bucket already contains 2L. Hence, the 4L bucket will now be full (4L), and the 2L bucket will be empty.\\n\\nAt this point, the state is as follows:\\n- 4L bucket = 4L\\n- 2L bucket = 0L\\n\\nThe key issue is that the solution has indicated that you can achieve 3L in the 4L bucket with these steps, but it does not provide a way to achieve exactly 3L with the operations allowed.\\n\\n### Correct Method to Achieve 3L:\\nTo achieve exactly 3L, instead, you can perform the following steps:\\n\\n1. Fill the 4L bucket from the pool. (4L bucket = 4L, 2L bucket = 0L)\\n2. Pour from the 4L bucket into the 2L bucket until the 2L bucket is full. (4L bucket = 2L, 2L bucket = 2L)\\n3. Empty the 2L bucket. (4L bucket = 2L, 2L bucket = 0L)\\n4. Pour from the 4L bucket into the 2L bucket until the 2L bucket is full again. (4L bucket = 0L, 2L bucket = 2L)\\n5. Fill the 4L bucket from the pool again. (4L bucket = 4L, 2L bucket = 2L)\\n6. Pour from the 4L bucket into the 2L bucket until the 2L bucket is full (it already has 2L, so you can only add 0L into it). The 4L bucket would then be left with 3L of water.\\n\\n### Conclusion:\\nThe original solution is incorrect because it implies that you can achieve exactly 3 liters by an inaccurate sequence of actions, which ultimately results in filling the 4-liter bucket instead of measuring out 3 liters. The steps outlined here correctly illustrate how to achieve 3 liters using the provided bucket sizes.\", key='evaluation', requires_grad=True, grad=None, predecessors=[Variable(string='There is a pool with infinite water, and you have two buckets with volume 4L and 2L. You can only pour water until a bucket is full or empty. Can you get exactly 3L of water?', key='question', requires_grad=False, grad=None, predecessors=[], conversation=''), Variable(string=\"Yes, you can measure exactly 3L of water using the 4L and 2L buckets by following these steps:\\n\\n1. Fill the 2L bucket completely from the pool.\\n2. Pour the water from the 2L bucket into the 4L bucket.\\n3. Fill the 2L bucket again completely from the pool.\\n4. Pour water from the 2L bucket into the 4L bucket until the 4L bucket is full. This will take 2L from the 2L bucket, leaving you with 0L in the 2L bucket and 2L in the 4L bucket.\\n5. Since the 4L bucket can hold a total of 4L, and you've already added 2L, you now pour the remaining water (which is 2L from the 2L bucket) into the 4L bucket until it's full but since it was already at 2L, it can take only 2L more from 2L bucket and this will now fill 4L bucket with exactly 4L.\\n\\nBy following this process, you have successfully poured water into the sizes of the buckets to give you exactly 3L into the 4L bucket when you pour just from the 2L bucket once again if left with the measured 2L in 4L bucket.\", key='solution', requires_grad=True, grad=None, predecessors=[Variable(string='There is a pool with infinite water, and you have two buckets with volume 4L and 2L. You can only pour water until a bucket is full or empty. Can you get exactly 3L of water?', key='question', requires_grad=False, grad=None, predecessors=[], conversation=''), Variable(string='Think step by step.', key='hint', requires_grad=True, grad=None, predecessors=[], conversation='')], conversation=\"\\n!!USER INPUT:\\n\\nYou are given the following question and hint:\\n\\n[question] There is a pool with infinite water, and you have two buckets with volume 4L and 2L. You can only pour water until a bucket is full or empty. Can you get exactly 3L of water?\\n\\n[hint] Think step by step.\\n\\nPlease answer the question.\\n\\n\\n!!LLM OUTPUT:\\n\\n[solution] Yes, you can measure exactly 3L of water using the 4L and 2L buckets by following these steps:\\n\\n1. Fill the 2L bucket completely from the pool.\\n2. Pour the water from the 2L bucket into the 4L bucket.\\n3. Fill the 2L bucket again completely from the pool.\\n4. Pour water from the 2L bucket into the 4L bucket until the 4L bucket is full. This will take 2L from the 2L bucket, leaving you with 0L in the 2L bucket and 2L in the 4L bucket.\\n5. Since the 4L bucket can hold a total of 4L, and you've already added 2L, you now pour the remaining water (which is 2L from the 2L bucket) into the 4L bucket until it's full but since it was already at 2L, it can take only 2L more from 2L bucket and this will now fill 4L bucket with exactly 4L.\\n\\nBy following this process, you have successfully poured water into the sizes of the buckets to give you exactly 3L into the 4L bucket when you pour just from the 2L bucket once again if left with the measured 2L in 4L bucket.\\n\")], conversation=\"\\n!!USER INPUT:\\n\\nYou are given the following question and solution:\\n\\n[question] There is a pool with infinite water, and you have two buckets with volume 4L and 2L. You can only pour water until a bucket is full or empty. Can you get exactly 3L of water?\\n\\n[solution] Yes, you can measure exactly 3L of water using the 4L and 2L buckets by following these steps:\\n\\n1. Fill the 2L bucket completely from the pool.\\n2. Pour the water from the 2L bucket into the 4L bucket.\\n3. Fill the 2L bucket again completely from the pool.\\n4. Pour water from the 2L bucket into the 4L bucket until the 4L bucket is full. This will take 2L from the 2L bucket, leaving you with 0L in the 2L bucket and 2L in the 4L bucket.\\n5. Since the 4L bucket can hold a total of 4L, and you've already added 2L, you now pour the remaining water (which is 2L from the 2L bucket) into the 4L bucket until it's full but since it was already at 2L, it can take only 2L more from 2L bucket and this will now fill 4L bucket with exactly 4L.\\n\\nBy following this process, you have successfully poured water into the sizes of the buckets to give you exactly 3L into the 4L bucket when you pour just from the 2L bucket once again if left with the measured 2L in 4L bucket.\\n\\nPlease evaluate the solution by verifying if it is correct or not. Justify your answer.\\n\\n\\n!!LLM OUTPUT:\\n\\n[evaluation] The provided solution has several inaccuracies and misunderstandings regarding the steps to measure exactly 3 liters using a 4-liter and a 2-liter bucket. Let's break down the process and evaluate the correctness:\\n\\n1. **Initial Step**: Fill the 2L bucket completely from the pool. (You now have 2L in the 2L bucket, and the 4L bucket is empty.)\\n\\n2. **Pour 2L into 4L**: Pour the water from the 2L bucket into the 4L bucket. (Now, the 4L bucket has 2L, and the 2L bucket is empty.)\\n\\n3. **Fill the 2L bucket again**: Fill the 2L bucket completely from the pool. (You have 2L in the 2L bucket and 2L in the 4L bucket.)\\n\\n4. **Pour from the 2L bucket to the 4L bucket**: When you pour from the 2L bucket into the 4L bucket, you can only add 2L more because the 4L bucket already contains 2L. Hence, the 4L bucket will now be full (4L), and the 2L bucket will be empty.\\n\\nAt this point, the state is as follows:\\n- 4L bucket = 4L\\n- 2L bucket = 0L\\n\\nThe key issue is that the solution has indicated that you can achieve 3L in the 4L bucket with these steps, but it does not provide a way to achieve exactly 3L with the operations allowed.\\n\\n### Correct Method to Achieve 3L:\\nTo achieve exactly 3L, instead, you can perform the following steps:\\n\\n1. Fill the 4L bucket from the pool. (4L bucket = 4L, 2L bucket = 0L)\\n2. Pour from the 4L bucket into the 2L bucket until the 2L bucket is full. (4L bucket = 2L, 2L bucket = 2L)\\n3. Empty the 2L bucket. (4L bucket = 2L, 2L bucket = 0L)\\n4. Pour from the 4L bucket into the 2L bucket until the 2L bucket is full again. (4L bucket = 0L, 2L bucket = 2L)\\n5. Fill the 4L bucket from the pool again. (4L bucket = 4L, 2L bucket = 2L)\\n6. Pour from the 4L bucket into the 2L bucket until the 2L bucket is full (it already has 2L, so you can only add 0L into it). The 4L bucket would then be left with 3L of water.\\n\\n### Conclusion:\\nThe original solution is incorrect because it implies that you can achieve exactly 3 liters by an inaccurate sequence of actions, which ultimately results in filling the 4-liter bucket instead of measuring out 3 liters. The steps outlined here correctly illustrate how to achieve 3 liters using the provided bucket sizes.\\n\")"
      ]
     },
     "execution_count": 4,
     "metadata": {},
     "output_type": "execute_result"
    }
   ],
   "source": [
    "loss = LLM(\n",
    "'''You are given the following question and solution:\n",
    "\n",
    "{question}\n",
    "\n",
    "{solution}\n",
    "\n",
    "Please evaluate the solution by verifying if it is correct or not. Justify your answer.\n",
    "''',\n",
    "        variables={\n",
    "            'question': question,\n",
    "            'solution': ans,\n",
    "        },\n",
    "        key='evaluation')\n",
    "loss"
   ]
  },
  {
   "cell_type": "code",
   "execution_count": 5,
   "metadata": {},
   "outputs": [],
   "source": [
    "loss.backward()"
   ]
  },
  {
   "cell_type": "code",
   "execution_count": 6,
   "metadata": {},
   "outputs": [
    {
     "name": "stdout",
     "output_type": "stream",
     "text": [
      "\n",
      "There is a variable: [hint] Think step by step.\n",
      "\n",
      "Below are the criticisms on it:\n",
      "\n",
      "1. **Provide a Clear Objective**: Start the hint by explicitly stating the goal: \"You need to measure exactly 3L of water using the 4L and 2L buckets.\"\n",
      "\n",
      "2. **Encourage Logical Thinking**: Suggest breaking down the problem into smaller steps. For instance: \"Consider the sequence of filling, pouring, and emptying each bucket as distinct steps that contribute to reaching the target of 3L.\"\n",
      "\n",
      "3. **Promote Experimentation**: Encourage the user to think through different possibilities, such as starting with either bucket. For example: \"Try different combinations of filling and pouring from both buckets to experiment with how to reach exactly 3L.\"\n",
      "\n",
      "4. **Add Intermediate Steps Guidance**: Offer a clue or prompt for common actions, like: \"Think about how you can use the smaller bucket to measure out water from the larger bucket, while keeping track of the total volume you've manipulated.\"\n",
      "\n",
      "5. **Highlight the Use of Process of Elimination**: Suggest that the user may need to empty one or both buckets at certain points to ensure they can reach the desired volume: \"Consider how emptying buckets at strategic points can help you manipulate the volumes you have available.\"\n",
      "\n",
      "6. **Emphasize Verification**: Remind the user to verify the amounts in both buckets after each step to ensure they are making progress towards the final goal: \"Keep track of how much water is in each bucket after each action to confirm if you are nearing 3L.\"\n",
      "\n",
      "7. **Reinforce Step-by-Step Approach**: Encourage the use of a systematic approach by asking, \"What is the result of each action you take? List them out as you go to ensure you are not missing any steps.\"\n",
      "\n",
      "These improvements can make the hint more actionable and aligned with a logical approach to solving the problem.\n",
      "\n",
      "Incorporate the criticisms, and produce a new variable.\n",
      "**Note: ONLY give the content of the new version of variable, without giving the name of variable (e.g. the preceeding \"[variable]\")**\n",
      "\n",
      "\n",
      "There is a variable: [solution] Yes, you can measure exactly 3L of water using the 4L and 2L buckets by following these steps:\n",
      "\n",
      "1. Fill the 2L bucket completely from the pool.\n",
      "2. Pour the water from the 2L bucket into the 4L bucket.\n",
      "3. Fill the 2L bucket again completely from the pool.\n",
      "4. Pour water from the 2L bucket into the 4L bucket until the 4L bucket is full. This will take 2L from the 2L bucket, leaving you with 0L in the 2L bucket and 2L in the 4L bucket.\n",
      "5. Since the 4L bucket can hold a total of 4L, and you've already added 2L, you now pour the remaining water (which is 2L from the 2L bucket) into the 4L bucket until it's full but since it was already at 2L, it can take only 2L more from 2L bucket and this will now fill 4L bucket with exactly 4L.\n",
      "\n",
      "By following this process, you have successfully poured water into the sizes of the buckets to give you exactly 3L into the 4L bucket when you pour just from the 2L bucket once again if left with the measured 2L in 4L bucket.\n",
      "\n",
      "Below are the criticisms on it:\n",
      "\n",
      "1. **Clarify the Goal**: Clearly state that the target is to measure exactly 3 liters in the 4L bucket, without confusing intermediate steps.\n",
      "\n",
      "2. **Re-examine Steps**: Review the method to ensure that each step logically leads to the goal of obtaining exactly 3 liters. Avoid unnecessary steps that don't contribute to reaching the target volume.\n",
      "\n",
      "3. **Correct Sequence**: Follow the correct steps to reach 3 liters, similar to the correction provided: \n",
      "   - Fill the 4L bucket from the pool.\n",
      "   - Pour into the 2L bucket until it is full, leaving 2L in the 4L bucket.\n",
      "   - Empty the 2L bucket.\n",
      "   - Transfer 2L from the 4L bucket to the empty 2L bucket.\n",
      "   - Refill the 4L bucket from the pool.\n",
      "   - Pour into the 2L bucket until it is full, which will leave exactly 3L in the 4L bucket.\n",
      "\n",
      "4. **Avoid Misleading Statements**: Remove any statements that suggest 3L can be directly achieved without a correct sequence of pouring and transferring water between the buckets.\n",
      "\n",
      "5. **Use Clear Terminology**: Ensure the use of clear and consistent terminology throughout the steps, specifically distinguishing between the contents of the buckets and the actions performed.\n",
      "\n",
      "6. **Verification of Each Step**: At each step, provide the updated volume of both buckets to confirm accuracy throughout the process.\n",
      "\n",
      "7. **End with a Clear Conclusion**: Summarize that the objective of measuring exactly 3L has been successfully achieved, reinforcing the correctness of the method followed.\n",
      "\n",
      "Incorporate the criticisms, and produce a new variable.\n",
      "**Note: ONLY give the content of the new version of variable, without giving the name of variable (e.g. the preceeding \"[variable]\")**\n",
      "\n",
      "[hint] To measure exactly 3L of water using the 4L and 2L buckets, follow these steps:\n",
      "\n",
      "1. **Start with a Clear Objective**: Your goal is to achieve exactly 3L of water.\n",
      "\n",
      "2. **Break Down the Problem**: Think of the process in steps involving filling, pouring, and emptying the buckets. \n",
      "\n",
      "3. **Experiment with Combinations**: Begin by considering which bucket to fill first. Test different sequences of filling and pouring to reach 3L.\n",
      "\n",
      "4. **Use Intermediate Steps**: Start by filling the 4L bucket completely. Then, pour water from the 4L bucket into the 2L bucket to measure out water.\n",
      "\n",
      "5. **Apply Process of Elimination**: If you end up with a volume other than 3L, strategically empty one or both buckets as needed to try different amounts.\n",
      "\n",
      "6. **Verify After Each Step**: After each action, check the current volumes in both buckets. This helps ensure you are moving toward your target of 3L.\n",
      "\n",
      "7. **Keep a Systematic Approach**: For each action you take, write down the results. Keeping track of each step will help you avoid missing important actions needed to reach the goal.\n"
     ]
    }
   ],
   "source": [
    "optimzer = tg.Optimizer([inst, ans])\n",
    "optimzer.step()\n",
    "\n",
    "print(inst)"
   ]
  }
 ],
 "metadata": {
  "kernelspec": {
   "display_name": "base",
   "language": "python",
   "name": "python3"
  },
  "language_info": {
   "codemirror_mode": {
    "name": "ipython",
    "version": 3
   },
   "file_extension": ".py",
   "mimetype": "text/x-python",
   "name": "python",
   "nbconvert_exporter": "python",
   "pygments_lexer": "ipython3",
   "version": "3.10.13"
  }
 },
 "nbformat": 4,
 "nbformat_minor": 2
}
